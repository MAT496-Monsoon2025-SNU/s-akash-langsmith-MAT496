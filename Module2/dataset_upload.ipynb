{
 "cells": [
  {
   "cell_type": "markdown",
   "metadata": {},
   "source": [
    "# Dataset Upload"
   ]
  },
  {
   "cell_type": "code",
   "execution_count": 1,
   "metadata": {},
   "outputs": [
    {
     "data": {
      "text/plain": [
       "True"
      ]
     },
     "execution_count": 1,
     "metadata": {},
     "output_type": "execute_result"
    }
   ],
   "source": [
    "from dotenv import load_dotenv\n",
    "load_dotenv()"
   ]
  },
  {
   "cell_type": "code",
   "execution_count": 2,
   "metadata": {},
   "outputs": [
    {
     "data": {
      "text/plain": [
       "{'example_ids': ['98bfec98-72ed-4362-b84c-45d6910fe51e',\n",
       "  'e0a03c62-0e48-4e88-9c40-ec4cd8d2da33',\n",
       "  'fc573bea-8ed6-4369-ae1d-e2e527c94bd7',\n",
       "  '3f3ca99b-3f17-4bd8-bdfd-bce4cbc03086',\n",
       "  'ad4965fd-670b-4d7b-ade3-e126ac213d9c',\n",
       "  '34aaed32-1485-4133-a1a4-73021114d881',\n",
       "  'a81fb131-6a89-44fe-9596-5ae2e39f525f',\n",
       "  'ad72162c-fbf5-4992-b3e5-5e55a69120fe',\n",
       "  '2eb6643d-1011-4ab9-b92a-24f5c7a61441',\n",
       "  'b6c0c647-0b51-4db9-bfee-f46f45d2f28f'],\n",
       " 'count': 10}"
      ]
     },
     "execution_count": 2,
     "metadata": {},
     "output_type": "execute_result"
    }
   ],
   "source": [
    "from langsmith import Client\n",
    "\n",
    "example_inputs = [\n",
    "(\"How do I start playing Minecraft?\", \"First, create a new world in Survival or Creative mode. Gather basic resources like wood and stone, craft tools, and explore your surroundings.\"),\n",
    "(\"What’s the difference between Survival and Creative mode?\", \"Survival mode requires gathering resources, managing health, and fighting mobs. Creative mode gives unlimited resources, flying ability, and no health loss.\"),\n",
    "(\"How do I gather resources?\", \"Punch trees for wood, mine stone and ores with tools, and collect food from animals or farming.\"),\n",
    "(\"How do I craft items?\", \"Open your inventory (E), place materials in the crafting grid, and combine them to make tools, weapons, or blocks.\"),\n",
    "(\"How do I make a shelter?\", \"Use wood, dirt, or stone to build walls and a roof. Make sure it’s lit with torches to keep mobs from spawning inside at night.\"),\n",
    "(\"How do I survive the first night?\", \"Gather wood and stone quickly, craft basic tools, and build a small shelter or dig a hole to hide until morning.\"),\n",
    "(\"How do I fight mobs?\", \"Use swords or bows. Keep your distance, attack strategically, and wear armor for protection.\"),\n",
    "(\"How do I mine for diamonds?\", \"Dig down to levels 11–12 underground, mine carefully, and always bring torches to light your path. Use iron or better pickaxes.\"),\n",
    "(\"How do I grow food?\", \"Plant seeds from wheat, carrots, or potatoes. Water the soil nearby, wait for them to grow, and harvest when ready.\"),\n",
    "(\"How do I explore safely?\", \"Carry food, torches, weapons, and armor. Avoid dangerous drops, lava, and mobs, and always mark your path to find your way home.\"),\n",
    "]\n",
    "\n",
    "client = Client()\n",
    "dataset_id = \"d5760ca9-0eaa-493c-909f-382fe0e64af3\"\n",
    "\n",
    "# Prepare inputs and outputs for bulk creation\n",
    "inputs = [{\"question\": input_prompt} for input_prompt, _ in example_inputs]\n",
    "outputs = [{\"output\": output_answer} for _, output_answer in example_inputs]\n",
    "\n",
    "client.create_examples(\n",
    "  inputs=inputs,\n",
    "  outputs=outputs,\n",
    "  dataset_id=dataset_id,\n",
    ")"
   ]
  },
  {
   "cell_type": "markdown",
   "metadata": {},
   "source": [
    "## Submitting another Trace"
   ]
  },
  {
   "cell_type": "code",
   "execution_count": 4,
   "metadata": {},
   "outputs": [
    {
     "name": "stderr",
     "output_type": "stream",
     "text": [
      "USER_AGENT environment variable not set, consider setting it to identify your requests.\n"
     ]
    }
   ],
   "source": [
    "from app import langsmith_rag"
   ]
  },
  {
   "cell_type": "code",
   "execution_count": 7,
   "metadata": {},
   "outputs": [
    {
     "data": {
      "text/plain": [
       "'To gather resources in Minecraft, you should start by punching trees to collect wood, which you can then craft into tools. Next, look for coal, stone, and various ores while mining underground or in caves. Additionally, you can gather food by hunting animals or farming crops to sustain your character.'"
      ]
     },
     "execution_count": 7,
     "metadata": {},
     "output_type": "execute_result"
    }
   ],
   "source": [
    "question = \"How do I gather resources in Minecraft?\"\n",
    "langsmith_rag(question)"
   ]
  }
 ],
 "metadata": {
  "kernelspec": {
   "display_name": ".venv",
   "language": "python",
   "name": "python3"
  },
  "language_info": {
   "codemirror_mode": {
    "name": "ipython",
    "version": 3
   },
   "file_extension": ".py",
   "mimetype": "text/x-python",
   "name": "python",
   "nbconvert_exporter": "python",
   "pygments_lexer": "ipython3",
   "version": "3.13.7"
  }
 },
 "nbformat": 4,
 "nbformat_minor": 4
}
